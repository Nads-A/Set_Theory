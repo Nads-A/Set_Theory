{
 "cells": [
  {
   "cell_type": "markdown",
   "metadata": {},
   "source": [
    "**PROBLEM 1** \\\n",
    "*Given: A and B are sets, $\\exists \\ x$ such that ($x \\in A \\land x \\in B$)*"
   ]
  },
  {
   "cell_type": "markdown",
   "metadata": {},
   "source": [
    "**ITEM 1** \\\n",
    "$A$ \\ $B$ = $A \\cap B^\\complement$ \\\n",
    "If $X \\in A$ \\ $B$, then $X \\notin B$ \\\n",
    "If $X \\notin B$, then $X \\in B^\\complement$ \\\n",
    "If $X \\in B^\\complement$, then $X \\in A \\land X \\in B^\\complement$ \\\n",
    "If $X \\in A \\land X \\in B^\\complement$, then $X \\in A \\cap B^\\complement$ \\\n",
    "Therefore, $A$ \\ $B$ = $A \\cap B^\\complement$"
   ]
  },
  {
   "cell_type": "markdown",
   "metadata": {},
   "source": [
    "**ITEM 2** \\\n",
    "$B$ = $(B \\cap A) \\cup (B \\cap A^\\complement)$ \\\n",
    "If $X \\in B$, then $X \\in (B \\cap A) \\lor X \\in (B \\cap A^\\complement)$ \\\n",
    "If $X \\in (B \\cap A) \\lor X \\in (B \\cap A^\\complement)$, then $X \\in (B \\cap A) \\cup (B \\cap A^\\complement)$ \\\n",
    "Therefore $B \\subseteq (B \\cap A) \\cup (B \\cap A^\\complement)$\n",
    "\n",
    "Now if $X \\in (B \\cap A) \\cup (B \\cap A^\\complement)$, then $X \\in (B \\cap A) \\lor X \\in (B \\cap A^\\complement)$ \\\n",
    "In either case, $X \\in B$  \\\n",
    "Therefore $(B \\cap A) \\cup (B \\cap A^\\complement) \\subseteq B$\n",
    "\n",
    "Since $B \\subseteq (B \\cap A) \\cup (B \\cap A^\\complement)$ and $(B \\cap A) \\cup (B \\cap A^\\complement) \\subseteq B$, it follows $B$ = $(B \\cap A) \\cup (B \\cap A^\\complement)$"
   ]
  },
  {
   "cell_type": "markdown",
   "metadata": {},
   "source": [
    "**ITEM 3** \\\n",
    "$B$ \\ $A$ = $B \\cap A^\\complement$ \\\n",
    "If $X \\in B$ \\ $A$, then $X \\notin A$ \\\n",
    "If $X \\notin A$, then $X \\in A^\\complement$ \\\n",
    "If $X \\in A^\\complement$, then $X \\in B \\land X \\in A^\\complement$ \\\n",
    "If $X \\in B \\land X \\in A^\\complement$, then $X \\in B \\cap A^\\complement$ \\\n",
    "\n",
    "Therefore, $B$ \\ $A$ = $B \\cap A^\\complement$"
   ]
  },
  {
   "cell_type": "markdown",
   "metadata": {},
   "source": [
    "**ITEM 4** \\\n",
    "$A \\cup B$ = $A \\cup (B \\cap A^\\complement)$ \\\n",
    "If $X \\in A \\cup B$, then $X \\in A \\lor X \\in B$ \\\n",
    "If $X \\in A$, then $X \\in A \\cup (B \\cap A^\\complement)$ \\\n",
    "If $X \\in B$, then either $X \\in A \\lor X \\notin A$ \\\n",
    "If $X \\notin A$, then $X \\in B \\cap A^\\complement$ and thus $X \\in A \\cup (B \\cap A^\\complement)$\n",
    "\n",
    "Now if $X \\in A \\cup (B \\cap A^\\complement)$, then $X \\in A \\lor X \\in (B \\cap A^\\complement)$ \\\n",
    "If $X \\in A$, then $X \\in A \\cup B$ \\\n",
    " If $X \\in B \\cap A^\\complement$, then $X \\in B$ and thus $X \\in A \\cup B$ \\\n",
    "Therefore, in all cases, $X \\in A \\cup B$ \\\n",
    "Thus $A \\cup (B \\cap A^\\complement) \\subseteq A \\cup B$\n",
    "\n",
    "Since $A \\cup B \\subseteq A \\cup (B \\cap A^\\complement)$ and $A \\cup (B \\cap A^\\complement) \\subseteq A \\cup B$, then $A \\cup B = A \\cup (B \\cap A^\\complement)$"
   ]
  },
  {
   "cell_type": "markdown",
   "metadata": {},
   "source": [
    "**ITEM 5** \\\n",
    "$(\\cup_{i=1}^\\infty A_i^\\complement)^\\complement$ = $\\cap_i^\\infty A_i^\\complement$ \\\n",
    "\n",
    "Left side: \\\n",
    "Assume $x \\in (\\cup_{i=1}^\\infty A_i^\\complement)^\\complement$. This means $x$ is not in the union of the complements of ($A_1, A_2, A_3, \\ldots$). Therefore, $x$ is not in the complement of any of these sets. In other words, for all $i$, $x \\notin A_i^\\complement$.\n",
    "\n",
    "This implies that $x$ is in the complement of each of the sets $A_i$, i.e., $x \\in A_i^\\complement$ for all $i$. Consequently, $x$ is in the intersection of the complements of the sets $A_1, A_2, A_3, \\ldots$ which is the right side: $\\cap_{i=1}^\\infty A_i^\\complement$.\n",
    "\n",
    "Right side: \\\n",
    "Now, assume an element $y$ is in the intersection of complements, i.e., $y \\in \\cap_{i=1}^\\infty A_i^\\complement$. This means $y$ is in the complement of each of the sets $A_1, A_2, A_3, \\ldots$. Therefore, $y$ is not in any of these sets, i.e., for all $i$, $y \\notin A_i$.\n",
    "\n",
    "This implies that $y$ is not in the union of these sets' originals, i.e., $y \\notin \\cup_{i=1}^\\infty A_i$. Consequently, $y$ is in the complement of the union of the complements, which is the LHS: $(\\cup_{i=1}^\\infty A_i^\\complement)^\\complement$.\n",
    "\n",
    "Since we have shown that any element from the left is also in the right and vice versa, the left side is equal to the right side. \\\n",
    "Hence, $(\\cup_{i=1}^\\infty A_i^\\complement)^\\complement$ = $\\cap_i^\\infty A_i^\\complement$"
   ]
  },
  {
   "cell_type": "markdown",
   "metadata": {},
   "source": [
    "**ITEM 6** \\\n",
    "|$A \\cup B$| = |$A$| + |$B$| - |$A \\cap B$|\n",
    "$$\n",
    "|A \\cup B| = |A| + |B| - |A \\cap B|\n",
    "$$\n",
    "\n",
    "**Proof:** Let $|X|$ denote the cardinality of set $X$.\n",
    "\n",
    "Consider sets $A$ and $B$.\n",
    "\n",
    "- If $|A|$ denotes the cardinality of set $A$,\n",
    "- And if $|B|$ denotes the cardinality of set $B$,\n",
    "\n",
    "When we form $A \\cup B$, we intuitively expect its size to be the sum of the sizes of $A$ and $B$. That is,\n",
    "$$\n",
    "|A \\cup B| = |A| + |B|\n",
    "$$\n",
    "\n",
    "However, we need to account for the possibility that some elements might be common to both $A$ and $B$, i.e., they belong to their intersection, $A \\cap B$.\n",
    "\n",
    "Therefore to avoid counting these elements twice, we need to subtract the size of their intersection from the sum. If $|A \\cap B|$ represents the size of the intersection set,\n",
    "$$\n",
    "|A \\cup B| = |A| + |B| - |A \\cap B|\n",
    "$$\n",
    "\n"
   ]
  }
 ],
 "metadata": {
  "kernelspec": {
   "display_name": "Python 3",
   "language": "python",
   "name": "python3"
  },
  "language_info": {
   "codemirror_mode": {
    "name": "ipython",
    "version": 3
   },
   "file_extension": ".py",
   "mimetype": "text/x-python",
   "name": "python",
   "nbconvert_exporter": "python",
   "pygments_lexer": "ipython3",
   "version": "3.11.5"
  },
  "orig_nbformat": 4
 },
 "nbformat": 4,
 "nbformat_minor": 2
}
